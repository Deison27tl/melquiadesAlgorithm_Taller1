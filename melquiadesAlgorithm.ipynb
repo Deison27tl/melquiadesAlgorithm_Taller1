{
 "cells": [
  {
   "cell_type": "markdown",
   "id": "1c7a2c97",
   "metadata": {
    "tags": []
   },
   "source": [
    "## Diplomado Python\n",
    "- Nombre: Deison Tuiran Londoño\n",
    "- Email:  deison.tuiran@upb.edu.co\n"
   ]
  },
  {
   "cell_type": "code",
   "execution_count": 2,
   "id": "5b097501",
   "metadata": {},
   "outputs": [
    {
     "name": "stdout",
     "output_type": "stream",
     "text": [
      "Ingrese el nombre del artista: Deison\n",
      "Princess yo puedo amalte suave hasta que salga el sol sin complomiso te lo dice Deison \n"
     ]
    }
   ],
   "source": [
    "import random\n",
    "nombreArtist = input(\"Ingrese el nombre del artista: \")\n",
    "frace1 = [\"Mami\", \"Bebé\", \"Princess\", \"Mami\"]\n",
    "frace2 = [\"yo quiero\", \"yo puedo\", \"yo vengo a\", \"voy a\"]\n",
    "frace3 = [\"encendelte\", \"amalte\", \"ligal\", \"jugal\"]\n",
    "frace4 = [\"suave\", \"lento\", \"rápido\", \"fuelte\"]\n",
    "frace5 = [\"hasta que salga el sol\", \"toa la noche\", \"hasta el amanecel\", \"too el día\"]\n",
    "frace6 = [\"sin anestesia\", \"sin complomiso\", \"feis to feis\", \"sin miedo\"]\n",
    "frace7 = [\"te lo dice\", \"producido pol\", \"con la melodia de\", \"escrito pol\"]\n",
    "\n",
    "crear = [frace1[random.randint(0,3)], frace2[random.randint(0,3)], frace3[random.randint(0,3)], frace4[random.randint(0,3)], \n",
    "        frace5[random.randint(0,3)],frace6[random.randint(0,3)], frace7[random.randint(0,3)], nombreArtist]\n",
    "letra = \"\"\n",
    "for items in crear:\n",
    "    letra += items + \" \"\n",
    "print(letra)"
   ]
  },
  {
   "cell_type": "markdown",
   "id": "378365f9",
   "metadata": {},
   "source": [
    "Lo primero que se hace es pedir el nombre del artista al usuario, luego se crea arrays para cada fracee de la oración, luego se crea otro array a fraceir de escoger aleatoriamente la pocisión del elemento del array de cada fracee, para al final luego concatenar todos los elementos con un bucle for convirtiendolo un string."
   ]
  }
 ],
 "metadata": {
  "kernelspec": {
   "display_name": "Python 3 (ipykernel)",
   "language": "python",
   "name": "python3"
  },
  "language_info": {
   "codemirror_mode": {
    "name": "ipython",
    "version": 3
   },
   "file_extension": ".py",
   "mimetype": "text/x-python",
   "name": "python",
   "nbconvert_exporter": "python",
   "pygments_lexer": "ipython3",
   "version": "3.9.12"
  }
 },
 "nbformat": 4,
 "nbformat_minor": 5
}
